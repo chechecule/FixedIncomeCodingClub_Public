{
 "cells": [
  {
   "cell_type": "markdown",
   "id": "cf7c512b",
   "metadata": {},
   "source": [
    "## 1. Scrape IRS data"
   ]
  },
  {
   "cell_type": "code",
   "execution_count": 1,
   "id": "740e89b0",
   "metadata": {
    "scrolled": false
   },
   "outputs": [
    {
     "name": "stdout",
     "output_type": "stream",
     "text": [
      "     기일물 Receive     Mid     Pay\n",
      "0     6M  3.8100  3.8050  3.8000\n",
      "1     9M  3.8250  3.8200  3.8150\n",
      "2     1Y  3.8050  3.8000  3.7950\n",
      "3   1.5Y  3.7375  3.7325  3.7275\n",
      "4     2Y  3.6650  3.6600  3.6550\n",
      "5     3Y  3.5650  3.5600  3.5550\n",
      "6     4Y  3.5050  3.5000  3.4950\n",
      "7     5Y  3.4650  3.4600  3.4550\n",
      "8     6Y  3.4400  3.4350  3.4300\n",
      "9     7Y  3.4225  3.4175  3.4125\n",
      "10    8Y  3.4175  3.4125  3.4075\n",
      "11    9Y  3.4150  3.4100  3.4050\n",
      "12   10Y  3.4125  3.4075  3.4025\n",
      "13   12Y  3.4200  3.4150  3.4100\n",
      "14   15Y  3.4150  3.4100  3.4050\n",
      "15   20Y  3.3650  3.3600  3.3550\n"
     ]
    }
   ],
   "source": [
    "from bs4 import BeautifulSoup\n",
    "from selenium import webdriver\n",
    "from selenium.webdriver.common.by import By\n",
    "from datetime import datetime\n",
    "import pandas as pd\n",
    "import sys \n",
    "\n",
    "# Open the website using Selenium WebDriver\n",
    "path = '/Users/youmjaehwa/Downloads/chromedriver_mac_arm64/chromedriver'\n",
    "sys.path.append(path)\n",
    "driver = webdriver.Chrome()\n",
    "\n",
    "url = 'http://www.smbs.biz/Exchange/IRS.jsp'\n",
    "driver.get(url)\n",
    "html = driver.page_source\n",
    "\n",
    "# Parse the HTML content using Beautiful Soup\n",
    "soup = BeautifulSoup(html, 'html.parser')\n",
    "table = soup.find('table', summary='기일물/1Y/2Y/3Y/4Y/5Y/7Y/10Y')\n",
    "\n",
    "# Extract the column names\n",
    "columns = [th.text.strip() for th in table.select('thead th')]\n",
    "\n",
    "# Extract the search date\n",
    "search_date_value = driver.find_element(By.ID,\"searchDate\").get_attribute('value')\n",
    "search_date = datetime.strptime(search_date_value, \"%Y.%m.%d\").date()\n",
    "# print(search_date)\n",
    "\n",
    "# Extract the data from the table and store it in a list of lists\n",
    "data = []\n",
    "for row in table.find_all('tr')[1:]: # exclude first row NaN\n",
    "    cells = row.find_all('td')\n",
    "    row_data = [cell.text.strip() for cell in cells]\n",
    "    data.append(row_data)        \n",
    "\n",
    "# Convert the list of lists into a Pandas DataFrame\n",
    "df = pd.DataFrame(data, columns=columns)\n",
    "\n",
    "# Display the dataframe\n",
    "print(df)\n",
    "\n",
    "# Close the browser\n",
    "driver.quit()"
   ]
  },
  {
   "cell_type": "markdown",
   "id": "ea78078c",
   "metadata": {},
   "source": [
    "## 2. Set Table"
   ]
  },
  {
   "cell_type": "markdown",
   "id": "a75d5642",
   "metadata": {},
   "source": [
    "### 1) Function for next business day"
   ]
  },
  {
   "cell_type": "code",
   "execution_count": 2,
   "id": "655bb832",
   "metadata": {},
   "outputs": [],
   "source": [
    "import datetime\n",
    "import holidays\n",
    "\n",
    "ONE_DAY = datetime.timedelta(days=1)\n",
    "HOLIDAYS_US = holidays.US()\n",
    "\n",
    "def next_business_day(date_str):\n",
    "    date = datetime.datetime.strptime(date_str, \"%Y-%m-%d\").date()\n",
    "    next_day = date + ONE_DAY\n",
    "    while next_day.weekday() in holidays.WEEKEND or next_day in HOLIDAYS_US:\n",
    "        next_day += ONE_DAY\n",
    "    return next_day\n",
    "\n",
    "# print(next_business_day('2024-03-16')), returns '2024-03-18'"
   ]
  },
  {
   "cell_type": "markdown",
   "id": "fa975b86",
   "metadata": {},
   "source": [
    "### 2) Set table format"
   ]
  },
  {
   "cell_type": "code",
   "execution_count": 3,
   "id": "89b543e8",
   "metadata": {},
   "outputs": [
    {
     "name": "stdout",
     "output_type": "stream",
     "text": [
      "         maturity adjusted maturity  market quote\n",
      "tenor                                            \n",
      "0.25   2023-09-16        2023-09-18           NaN\n",
      "0.50   2023-12-16        2023-12-18           NaN\n",
      "0.75   2024-03-16        2024-03-18           NaN\n",
      "1.00   2024-06-16        2024-06-17           NaN\n",
      "1.25   2024-09-16        2024-09-17           NaN\n",
      "1.50   2024-12-16        2024-12-17           NaN\n",
      "1.75   2025-03-16        2025-03-17           NaN\n",
      "2.00   2025-06-16        2025-06-17           NaN\n",
      "2.25   2025-09-16        2025-09-17           NaN\n",
      "2.50   2025-12-16        2025-12-17           NaN\n",
      "2.75   2026-03-16        2026-03-17           NaN\n",
      "3.00   2026-06-16        2026-06-17           NaN\n"
     ]
    }
   ],
   "source": [
    "import pandas as pd\n",
    "from datetime import date\n",
    "from dateutil.relativedelta import relativedelta\n",
    "import numpy as np\n",
    "\n",
    "# Define the column names\n",
    "columns = [\"tenor\", \"maturity\", \"adjusted maturity\", \"market quote\"]\n",
    "\n",
    "# Create an empty DataFrame\n",
    "df = pd.DataFrame(columns=columns)\n",
    "\n",
    "# Set the \"tenor\" column as the index\n",
    "df.set_index(\"tenor\", inplace=True)\n",
    "\n",
    "# Define the range of tenor values\n",
    "tenor_range = np.arange(0.25, 3.25, 0.25)\n",
    "\n",
    "# Calculate the maturity and adjusted maturity for each tenor\n",
    "for tenor in tenor_range:\n",
    "    maturity = search_date + relativedelta(months=tenor*12)\n",
    "    adjusted_maturity = next_business_day(str(maturity))  # Assuming next business day calculation\n",
    "    \n",
    "    # Add the row to the DataFrame\n",
    "    df.loc[tenor] = [maturity, adjusted_maturity, np.nan]\n",
    "\n",
    "# Perform the bootstrapping calculation to fill the \"market quote\" column\n",
    "# Replace the np.nan values with the actual market quotes\n",
    "\n",
    "# Display the resulting DataFrame\n",
    "print(df)"
   ]
  }
 ],
 "metadata": {
  "kernelspec": {
   "display_name": "Python 3 (ipykernel)",
   "language": "python",
   "name": "python3"
  },
  "language_info": {
   "codemirror_mode": {
    "name": "ipython",
    "version": 3
   },
   "file_extension": ".py",
   "mimetype": "text/x-python",
   "name": "python",
   "nbconvert_exporter": "python",
   "pygments_lexer": "ipython3",
   "version": "3.9.13"
  }
 },
 "nbformat": 4,
 "nbformat_minor": 5
}
