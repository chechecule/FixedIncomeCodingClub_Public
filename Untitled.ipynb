{
 "cells": [
  {
   "cell_type": "code",
   "execution_count": 39,
   "id": "128751e5-a266-44d0-8693-2ef5c2491867",
   "metadata": {},
   "outputs": [],
   "source": [
    "\n",
    "\n",
    "from collections import OrderedDict, Sequence\n",
    "\n",
    "from pprint import pprint\n",
    "\n",
    "import pandas as pd\n",
    "\n",
    "def _get_spot(i, spot_rates, par_rates, maturity):\n",
    "    \"\"\"\n",
    "\n",
    "    \"\"\"\n",
    "\n",
    "    # get discount_val except final tenor\n",
    "\n",
    "    discount_mat = 0\n",
    "    for n in range(i):\n",
    "        discount_mat += (par_rates[i]*100)/((1+spot_rates[n])**(maturity[n]))\n",
    "\n",
    "    spot_i = (((100+(par_rates[i]*100)) / (100-discount_mat))**(1/maturity[i])) - 1 \n",
    "\n",
    "    return spot_i\n",
    "\n",
    "\n",
    "def IRS_par_to_spot(\n",
    "    fixed_rate : float,\n",
    "    par_rates : Sequence, \n",
    "    maturity : Sequence, \n",
    "    *args, **kwargs\n",
    "    ) -> Sequence:\n",
    "\n",
    "    # first check if length equals \n",
    "    len(par_rates) == len(maturity)\n",
    "\n",
    "    spot_rates = list()\n",
    "    spot_rates.append(par_rates[0])\n",
    "\n",
    "    for i in range(1, len(par_rates)):\n",
    "        spot_rates.append(\n",
    "            _get_spot(i, spot_rates, par_rates, maturity)\n",
    "        )\n",
    "\n",
    "    return spot_rates"
   ]
  },
  {
   "cell_type": "code",
   "execution_count": 40,
   "id": "2100b410-7837-4d21-af08-daadfd05a455",
   "metadata": {},
   "outputs": [],
   "source": [
    "par_rates = [0.02, 0.04, 0.05]\n",
    "maturity = [1, 2, 3]\n",
    "\n",
    "a = IRS_par_to_spot(0.01 , par_rates, maturity)"
   ]
  },
  {
   "cell_type": "code",
   "execution_count": 80,
   "id": "7b880922-ffe7-4a17-bd57-edeea1827faf",
   "metadata": {},
   "outputs": [],
   "source": [
    "def _get_forward(spot_rates, maturity):\n",
    "    forward_rates = list()\n",
    "    forward_rates.append(spot_rates[0])\n",
    "    print(len(spot_rates))\n",
    "    for i in range(1, len(spot_rates)):\n",
    "        mat_diff = maturity[i] - maturity[i-1]\n",
    "        \n",
    "        forward_rate = (1+spot_rates[i])**maturity[i]/((1+spot_rates[i-1])**maturity[i-1])-1\n",
    "        print(f\"{i}___{forward_rate}\")\n",
    "        forward_rates.append(forward_rate)\n",
    "    return forward_rates\n",
    "    "
   ]
  },
  {
   "cell_type": "code",
   "execution_count": 81,
   "id": "c5965bc0-3937-4a8a-9208-981c0ae8c424",
   "metadata": {},
   "outputs": [],
   "source": [
    "spot_rates = [0.02, 0.04, 0.05, 0.0575]\n",
    "maturity = [1, 2, 3, 4]"
   ]
  },
  {
   "cell_type": "code",
   "execution_count": 82,
   "id": "47189659-4044-45c8-ba74-f66b167d2628",
   "metadata": {},
   "outputs": [
    {
     "name": "stdout",
     "output_type": "stream",
     "text": [
      "4\n",
      "1___0.06039215686274524\n",
      "2___0.0702893860946745\n",
      "3___0.08032296191690991\n"
     ]
    }
   ],
   "source": [
    "c = _get_forward([0.02, 0.04, 0.05, 0.0575], [1, 2, 3, 4])"
   ]
  },
  {
   "cell_type": "code",
   "execution_count": 76,
   "id": "1c2f8475-0ed6-4ccf-9680-304f73bd6e27",
   "metadata": {},
   "outputs": [
    {
     "data": {
      "text/plain": [
       "0.06039215686274524"
      ]
     },
     "execution_count": 76,
     "metadata": {},
     "output_type": "execute_result"
    }
   ],
   "source": [
    "(1+spot_rates[1])**maturity[1]/((1+spot_rates[0])**maturity[0])-1"
   ]
  },
  {
   "cell_type": "code",
   "execution_count": 120,
   "id": "93f9143d-8a92-4629-bd5f-c2530309eb14",
   "metadata": {},
   "outputs": [],
   "source": [
    "import numpy as np\n",
    "def IRS_interpolate(term, irs_rates, maturity, *args, **kwargs):\n",
    "\n",
    "    interpolated_maturity = list()\n",
    "    interpolated_irs_rates = list()\n",
    "\n",
    "    for i in range(1, len(maturity)):\n",
    "        print(i)\n",
    "        print(f\"{maturity[i]} - {maturity[i-1]} == \")\n",
    "        if ((maturity[i] - maturity[i-1]) == term):\n",
    "            interpolated_maturity.append(maturity[i])\n",
    "            interpolated_irs_rates.append(irs_rates[i])\n",
    "\n",
    "        else:\n",
    "            print(\"yo\")\n",
    "            for inter_term in np.arange(maturity[i-1], maturity[i], term):\n",
    "                print(inter_term)\n",
    "                interpolated_maturity.append(inter_term)\n",
    "                interpolated_irs_rates.append(None)\n",
    "\n",
    "    return interpolated_irs_rates, interpolated_maturity\n"
   ]
  },
  {
   "cell_type": "code",
   "execution_count": 180,
   "id": "5861a6fb-446a-4d6d-9176-522155ec09e1",
   "metadata": {},
   "outputs": [],
   "source": [
    "def discount_factor(irs_rates, maturity):\n",
    "\n",
    "    discount_factors = list()\n",
    "\n",
    "    discount_factors.append(\n",
    "        1/(1+irs_rates[0]/(1/maturity[0]))\n",
    "        )\n",
    "\n",
    "    for i in range(1, len(maturity)):\n",
    "        mat_diff = maturity[i] - maturity[i-1]\n",
    "        discount_factors.append(\n",
    "            (1 - irs_rates[i]/(1/mat_diff)*discount_factors[i-1])/(1+(irs_rates[i]/(1/mat_diff)))\n",
    "        )\n",
    "\n",
    "    return discount_factors"
   ]
  },
  {
   "cell_type": "code",
   "execution_count": 181,
   "id": "5e69474d-1580-41e1-baaa-a70f89627d85",
   "metadata": {},
   "outputs": [],
   "source": [
    "r = [0.007050, 0.008750, 0.010430, 0.012350]\n",
    "m = [0.5, 1, 1.5, 2]"
   ]
  },
  {
   "cell_type": "code",
   "execution_count": 182,
   "id": "cff95b9f-87c2-46c9-8faf-25239ec6cfbf",
   "metadata": {},
   "outputs": [],
   "source": [
    "d = discount_factor(r, m)"
   ]
  },
  {
   "cell_type": "code",
   "execution_count": 183,
   "id": "9ec9a8c0-3e9e-4296-ac96-8151bb6d2675",
   "metadata": {},
   "outputs": [
    {
     "data": {
      "text/plain": [
       "[0.9964873819785257,\n",
       " 0.9913034152620723,\n",
       " 0.9896692276671243,\n",
       " 0.9877891942446945]"
      ]
     },
     "execution_count": 183,
     "metadata": {},
     "output_type": "execute_result"
    }
   ],
   "source": [
    "d"
   ]
  },
  {
   "cell_type": "code",
   "execution_count": 151,
   "id": "aaf67c6e-c9d6-4cf8-a846-6e2a1fd62f26",
   "metadata": {},
   "outputs": [
    {
     "data": {
      "text/plain": [
       "1.004375"
      ]
     },
     "execution_count": 151,
     "metadata": {},
     "output_type": "execute_result"
    }
   ],
   "source": [
    "(1+(r[1]/(1/0.5)))"
   ]
  },
  {
   "cell_type": "code",
   "execution_count": 188,
   "id": "5dd27b99-cd7d-4af5-828b-eff4c74fb830",
   "metadata": {},
   "outputs": [
    {
     "data": {
      "text/plain": [
       "0.007050000000000001"
      ]
     },
     "execution_count": 188,
     "metadata": {},
     "output_type": "execute_result"
    }
   ],
   "source": [
    "((1/(d[0]))**(m[0]*(1/m[0]))-1) * (1/m[0])"
   ]
  },
  {
   "cell_type": "code",
   "execution_count": 189,
   "id": "b77c1d15-7a3d-40f6-b88c-673a66165000",
   "metadata": {},
   "outputs": [
    {
     "data": {
      "text/plain": [
       "0.06328773000213861"
      ]
     },
     "execution_count": 189,
     "metadata": {},
     "output_type": "execute_result"
    }
   ],
   "source": [
    "((1/(d[2]))**(m[2]*(1/0.5))-1) * (1/0.5)"
   ]
  },
  {
   "cell_type": "code",
   "execution_count": 191,
   "id": "f55b7870-3eea-4af9-ac19-7672bbdf0e3b",
   "metadata": {},
   "outputs": [
    {
     "data": {
      "text/plain": [
       "0.0034674996321324425"
      ]
     },
     "execution_count": 191,
     "metadata": {},
     "output_type": "execute_result"
    }
   ],
   "source": [
    "((1/d[2])**(1/(m[2]*(1/0.5))))-1\n"
   ]
  },
  {
   "cell_type": "code",
   "execution_count": 196,
   "id": "86c63d94-86e9-4bcc-a7d9-a4c5e028fc1f",
   "metadata": {},
   "outputs": [
    {
     "data": {
      "text/plain": [
       "0.3333333333333333"
      ]
     },
     "execution_count": 196,
     "metadata": {},
     "output_type": "execute_result"
    }
   ],
   "source": [
    "(1/(m[2]*(1/0.5)))"
   ]
  },
  {
   "cell_type": "code",
   "execution_count": 198,
   "id": "3e98e6d7-9abd-484a-9298-93131c1931b6",
   "metadata": {},
   "outputs": [
    {
     "data": {
      "text/plain": [
       "1.0034674648970885"
      ]
     },
     "execution_count": 198,
     "metadata": {},
     "output_type": "execute_result"
    }
   ],
   "source": [
    "(1/d[2])**(0.33333)"
   ]
  },
  {
   "cell_type": "code",
   "execution_count": 202,
   "id": "fd2e12ed-a565-45f6-9da4-b6684b0659b7",
   "metadata": {},
   "outputs": [
    {
     "data": {
      "text/plain": [
       "0.0034674996321324425"
      ]
     },
     "execution_count": 202,
     "metadata": {},
     "output_type": "execute_result"
    }
   ],
   "source": [
    "(1/d[2])**(1/3)-1"
   ]
  },
  {
   "cell_type": "markdown",
   "id": "bf8e8807-19e0-4441-84cc-f78b625b17b0",
   "metadata": {},
   "source": [
    "d[2]"
   ]
  },
  {
   "cell_type": "code",
   "execution_count": 208,
   "id": "72ad40c7-0d49-4931-92de-1d1ed9365b25",
   "metadata": {},
   "outputs": [
    {
     "data": {
      "text/plain": [
       "0.993100905349993"
      ]
     },
     "execution_count": 208,
     "metadata": {},
     "output_type": "execute_result"
    }
   ],
   "source": [
    "(1/d[2])**((1/(1.5*2)-1))"
   ]
  },
  {
   "cell_type": "code",
   "execution_count": 210,
   "id": "6ea341f4-4321-4e61-b171-07c159b6ea2d",
   "metadata": {},
   "outputs": [
    {
     "data": {
      "text/plain": [
       "0.9896692276671243"
      ]
     },
     "execution_count": 210,
     "metadata": {},
     "output_type": "execute_result"
    }
   ],
   "source": [
    "d[2]"
   ]
  },
  {
   "cell_type": "code",
   "execution_count": null,
   "id": "5d442448-9c70-4b77-a9a7-ce502fd9c287",
   "metadata": {},
   "outputs": [],
   "source": []
  },
  {
   "cell_type": "code",
   "execution_count": null,
   "id": "84683455-2ec9-467f-9792-20e056494f07",
   "metadata": {},
   "outputs": [],
   "source": []
  },
  {
   "cell_type": "code",
   "execution_count": null,
   "id": "f8364ba3-463c-4a26-8409-c54344379cf8",
   "metadata": {},
   "outputs": [],
   "source": []
  },
  {
   "cell_type": "code",
   "execution_count": 1,
   "id": "767f1a0a-4b6b-4cfe-b1f5-797ebc7b33f1",
   "metadata": {},
   "outputs": [
    {
     "name": "stderr",
     "output_type": "stream",
     "text": [
      "/var/folders/q6/lm1fms8s43ngjh046v7vnt6w0000gn/T/ipykernel_76712/3328518000.py:5: DeprecationWarning: Using or importing the ABCs from 'collections' instead of from 'collections.abc' is deprecated since Python 3.3, and in 3.10 it will stop working\n",
      "  from collections import OrderedDict, Sequence\n"
     ]
    }
   ],
   "source": [
    "import asyncio\n",
    "from pyppeteer import launch\n",
    "from bs4 import BeautifulSoup\n",
    "\n",
    "from collections import OrderedDict, Sequence\n",
    "\n",
    "from pprint import pprint\n",
    "\n",
    "import pandas as pd\n",
    "\n",
    "def _get_IRS_table(irs_table) -> pd.DataFrame:\n",
    "    \"\"\"\n",
    "    IRS Table getter. this returns a df\n",
    "    \"\"\"\n",
    "\n",
    "    data_list = list()\n",
    "\n",
    "    for tr in irs_table.find_all(\"tr\"):\n",
    "        #get all table rows and initialize an ordered dict to ensure sequence\n",
    "        data = OrderedDict()\n",
    "\n",
    "        for th, td in zip(irs_table.select('th'), tr.select(\"td\")):\n",
    "            # match each tr data with column heads\n",
    "            data[th.text.strip()] = td.text.strip()\n",
    "            data_list.append(data)\n",
    "\n",
    "    # set them as df and drop duplicate rows\n",
    "    df = pd.DataFrame(data_list)\n",
    "    df = df.drop_duplicates()\n",
    "    #pprint(df)\n",
    "\n",
    "    return df\n",
    "\n",
    "\n",
    "\n",
    "async def irs_get():\n",
    "    browser = await launch(headless=False, autoClose=False)\n",
    "    page = await browser.newPage()\n",
    "    await page.goto('http://www.smbs.biz/Exchange/IRS.jsp')\n",
    "\n",
    "    await page.waitFor(2000)\n",
    "\n",
    "    await page.evaluate(f\"\"\"() => {{\n",
    "        document.getElementById('searchDate').value = '';\n",
    "    }}\"\"\")\n",
    "\n",
    "    elements = await page.xpath(\"//input[contains(@id, 'searchDate')]\")\n",
    "    await elements[0].click()\n",
    "\n",
    "    await page.waitFor(1000)\n",
    "    target_date = \"20230609\"\n",
    "    await page.type(\"#searchDate\", target_date) \n",
    "\n",
    "    await page.waitFor(1000)\n",
    "    elements = await page.xpath(\"//img[contains(@alt, '조회하기')]\")\n",
    "    await elements[0].click()\n",
    "\n",
    "\n",
    "    html = await page.content()\n",
    "\n",
    "    await browser.close()\n",
    "    return html\n",
    "\n",
    "\n",
    "def get_IRS_data():\n",
    "\n",
    "    html_response = asyncio.get_event_loop().run_until_complete(irs_get())\n",
    "\n",
    "    ## Load HTML Response Into BeautifulSoup\n",
    "    soup = BeautifulSoup(html_response, \"html.parser\")\n",
    "\n",
    "    # isolate irs table from other data\n",
    "    irs_table = soup.find_all(\"div\", attrs={\"class\" : \"table_type2\"})[0]\n",
    "\n",
    "    # get date data\n",
    "    date = soup.find_all(\"input\", attrs={\"name\" : \"StrSchFull3\"})[0]\n",
    "    print(f\"date = {date.text.strip()}\")\n",
    "\n",
    "    df = _get_IRS_table(irs_table)\n",
    "    pprint(df)\n",
    "\n",
    "    return df"
   ]
  },
  {
   "cell_type": "code",
   "execution_count": 2,
   "id": "54e26658-e8e3-4177-a5af-9da17a755865",
   "metadata": {},
   "outputs": [],
   "source": [
    "%autoawait asyncio"
   ]
  },
  {
   "cell_type": "code",
   "execution_count": 3,
   "id": "d1f21306-b5da-4099-8b9a-0a81a1170c1f",
   "metadata": {},
   "outputs": [
    {
     "ename": "RuntimeError",
     "evalue": "This event loop is already running",
     "output_type": "error",
     "traceback": [
      "\u001b[0;31m---------------------------------------------------------------------------\u001b[0m",
      "\u001b[0;31mRuntimeError\u001b[0m                              Traceback (most recent call last)",
      "\u001b[0;32m/var/folders/q6/lm1fms8s43ngjh046v7vnt6w0000gn/T/ipykernel_76712/2746639621.py\u001b[0m in \u001b[0;36m<module>\u001b[0;34m\u001b[0m\n\u001b[0;32m----> 1\u001b[0;31m \u001b[0ma\u001b[0m \u001b[0;34m=\u001b[0m \u001b[0mget_IRS_data\u001b[0m\u001b[0;34m(\u001b[0m\u001b[0;34m)\u001b[0m\u001b[0;34m\u001b[0m\u001b[0;34m\u001b[0m\u001b[0m\n\u001b[0m",
      "\u001b[0;32m/var/folders/q6/lm1fms8s43ngjh046v7vnt6w0000gn/T/ipykernel_76712/3328518000.py\u001b[0m in \u001b[0;36mget_IRS_data\u001b[0;34m()\u001b[0m\n\u001b[1;32m     65\u001b[0m \u001b[0;32mdef\u001b[0m \u001b[0mget_IRS_data\u001b[0m\u001b[0;34m(\u001b[0m\u001b[0;34m)\u001b[0m\u001b[0;34m:\u001b[0m\u001b[0;34m\u001b[0m\u001b[0;34m\u001b[0m\u001b[0m\n\u001b[1;32m     66\u001b[0m \u001b[0;34m\u001b[0m\u001b[0m\n\u001b[0;32m---> 67\u001b[0;31m     \u001b[0mhtml_response\u001b[0m \u001b[0;34m=\u001b[0m \u001b[0masyncio\u001b[0m\u001b[0;34m.\u001b[0m\u001b[0mget_event_loop\u001b[0m\u001b[0;34m(\u001b[0m\u001b[0;34m)\u001b[0m\u001b[0;34m.\u001b[0m\u001b[0mrun_until_complete\u001b[0m\u001b[0;34m(\u001b[0m\u001b[0mirs_get\u001b[0m\u001b[0;34m(\u001b[0m\u001b[0;34m)\u001b[0m\u001b[0;34m)\u001b[0m\u001b[0;34m\u001b[0m\u001b[0;34m\u001b[0m\u001b[0m\n\u001b[0m\u001b[1;32m     68\u001b[0m \u001b[0;34m\u001b[0m\u001b[0m\n\u001b[1;32m     69\u001b[0m     \u001b[0;31m## Load HTML Response Into BeautifulSoup\u001b[0m\u001b[0;34m\u001b[0m\u001b[0;34m\u001b[0m\u001b[0m\n",
      "\u001b[0;32m~/opt/anaconda3/lib/python3.9/asyncio/base_events.py\u001b[0m in \u001b[0;36mrun_until_complete\u001b[0;34m(self, future)\u001b[0m\n\u001b[1;32m    616\u001b[0m         \"\"\"\n\u001b[1;32m    617\u001b[0m         \u001b[0mself\u001b[0m\u001b[0;34m.\u001b[0m\u001b[0m_check_closed\u001b[0m\u001b[0;34m(\u001b[0m\u001b[0;34m)\u001b[0m\u001b[0;34m\u001b[0m\u001b[0;34m\u001b[0m\u001b[0m\n\u001b[0;32m--> 618\u001b[0;31m         \u001b[0mself\u001b[0m\u001b[0;34m.\u001b[0m\u001b[0m_check_running\u001b[0m\u001b[0;34m(\u001b[0m\u001b[0;34m)\u001b[0m\u001b[0;34m\u001b[0m\u001b[0;34m\u001b[0m\u001b[0m\n\u001b[0m\u001b[1;32m    619\u001b[0m \u001b[0;34m\u001b[0m\u001b[0m\n\u001b[1;32m    620\u001b[0m         \u001b[0mnew_task\u001b[0m \u001b[0;34m=\u001b[0m \u001b[0;32mnot\u001b[0m \u001b[0mfutures\u001b[0m\u001b[0;34m.\u001b[0m\u001b[0misfuture\u001b[0m\u001b[0;34m(\u001b[0m\u001b[0mfuture\u001b[0m\u001b[0;34m)\u001b[0m\u001b[0;34m\u001b[0m\u001b[0;34m\u001b[0m\u001b[0m\n",
      "\u001b[0;32m~/opt/anaconda3/lib/python3.9/asyncio/base_events.py\u001b[0m in \u001b[0;36m_check_running\u001b[0;34m(self)\u001b[0m\n\u001b[1;32m    576\u001b[0m     \u001b[0;32mdef\u001b[0m \u001b[0m_check_running\u001b[0m\u001b[0;34m(\u001b[0m\u001b[0mself\u001b[0m\u001b[0;34m)\u001b[0m\u001b[0;34m:\u001b[0m\u001b[0;34m\u001b[0m\u001b[0;34m\u001b[0m\u001b[0m\n\u001b[1;32m    577\u001b[0m         \u001b[0;32mif\u001b[0m \u001b[0mself\u001b[0m\u001b[0;34m.\u001b[0m\u001b[0mis_running\u001b[0m\u001b[0;34m(\u001b[0m\u001b[0;34m)\u001b[0m\u001b[0;34m:\u001b[0m\u001b[0;34m\u001b[0m\u001b[0;34m\u001b[0m\u001b[0m\n\u001b[0;32m--> 578\u001b[0;31m             \u001b[0;32mraise\u001b[0m \u001b[0mRuntimeError\u001b[0m\u001b[0;34m(\u001b[0m\u001b[0;34m'This event loop is already running'\u001b[0m\u001b[0;34m)\u001b[0m\u001b[0;34m\u001b[0m\u001b[0;34m\u001b[0m\u001b[0m\n\u001b[0m\u001b[1;32m    579\u001b[0m         \u001b[0;32mif\u001b[0m \u001b[0mevents\u001b[0m\u001b[0;34m.\u001b[0m\u001b[0m_get_running_loop\u001b[0m\u001b[0;34m(\u001b[0m\u001b[0;34m)\u001b[0m \u001b[0;32mis\u001b[0m \u001b[0;32mnot\u001b[0m \u001b[0;32mNone\u001b[0m\u001b[0;34m:\u001b[0m\u001b[0;34m\u001b[0m\u001b[0;34m\u001b[0m\u001b[0m\n\u001b[1;32m    580\u001b[0m             raise RuntimeError(\n",
      "\u001b[0;31mRuntimeError\u001b[0m: This event loop is already running"
     ]
    }
   ],
   "source": [
    "a = get_IRS_data()"
   ]
  },
  {
   "cell_type": "code",
   "execution_count": null,
   "id": "0b871cad-59be-426b-9265-4f80889f3eb9",
   "metadata": {},
   "outputs": [],
   "source": []
  }
 ],
 "metadata": {
  "kernelspec": {
   "display_name": "Python 3 (ipykernel)",
   "language": "python",
   "name": "python3"
  },
  "language_info": {
   "codemirror_mode": {
    "name": "ipython",
    "version": 3
   },
   "file_extension": ".py",
   "mimetype": "text/x-python",
   "name": "python",
   "nbconvert_exporter": "python",
   "pygments_lexer": "ipython3",
   "version": "3.9.7"
  }
 },
 "nbformat": 4,
 "nbformat_minor": 5
}
